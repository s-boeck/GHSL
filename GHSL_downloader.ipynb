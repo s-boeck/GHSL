{
 "cells": [
  {
   "cell_type": "code",
   "execution_count": null,
   "metadata": {},
   "outputs": [],
   "source": [
    "import os\n",
    "import requests\n",
    "import zipfile"
   ]
  },
  {
   "cell_type": "code",
   "execution_count": null,
   "metadata": {},
   "outputs": [],
   "source": [
    "unzip = True\n",
    "dst = 'data'\n",
    "\n",
    "\n",
    "years = [str(year) for year in range(1975, 2030 + 1, 5)]\n",
    "\n",
    "rows = range(1, 6+1)\n",
    "cols = range(16, 23+1)\n",
    "\n",
    "root = 'https://jeodpp.jrc.ec.europa.eu/ftp/jrc-opendata/GHSL'\n",
    "\n",
    "products = {\n",
    "    'GHS_BUILT_S_GLOBE_R2023A': [f'GHS_BUILT_S_E{year}_GLOBE_R2023A_54009_100' for year in years],\n",
    "    'GHS_BUILT_V_GLOBE_R2023A': [f'GHS_BUILT_V_E{year}_GLOBE_R2023A_54009_100' for year in years],\n",
    "    'GHS_POP_GLOBE_R2023': [f'GHS_POP_E{year}_GLOBE_R2023A_54009_100' for year in years],\n",
    "    'GHS_SMOD_GLOBE_R2023A': [f'GHS_SMOD_E{year}_GLOBE_R2023A_54009_1000' for year in years],\n",
    "    'GHS_BUILT_H_GLOBE_R2023A': ('GHS_BUILT_H_FUN_E2018_GLOBE_R2023A_54009_10', 'GHS_BUILT_H_MSZ_E2018_GLOBE_R2023A_54009_10', ),\n",
    "    'GHS_BUILT_C_GLOBE_R2023A': ('GHS_BUILT_C_FUN_E2018_GLOBE_R2023A_54009_10', 'GHS_BUILT_C_MSZ_E2018_GLOBE_R2023A_54009_10', ),\n",
    "    'GHS_SDATA_GLOBE_R2023A': ('GHS_SDATA_LDS_QUANT_MT_GLOBE_R2023A_54009_100', )\n",
    "}\n"
   ]
  },
  {
   "cell_type": "code",
   "execution_count": null,
   "metadata": {},
   "outputs": [],
   "source": [
    "for product in products:\n",
    "    datasets = products.get(product)\n",
    "    for dataset in datasets:\n",
    "        for row in rows:\n",
    "            for col in cols:\n",
    "                item = f'{dataset}_V1_0_R{row}_C{col}.zip'\n",
    "                url = f'{root}/{product}/{dataset}/V1-0/tiles/{item}'\n",
    "                target = os.path.join(dst, product, dataset, item)\n",
    "                \n",
    "                if os.path.exists(target):\n",
    "                    continue\n",
    "                else:\n",
    "                    os.makedirs(os.path.dirname(target), exist_ok=True)\n",
    "               \n",
    "                    try:\n",
    "                        r = requests.get(url)\n",
    "                        with open(target, 'wb') as f:\n",
    "                            f.write(r.content)\n",
    "                            \n",
    "                        if unzip:\n",
    "                            with zipfile.ZipFile(target, 'r') as zip_f:\n",
    "                                zip_f.extractall(target.removesuffix('.zip'))\n",
    "\n",
    "                    except requests.exceptions.RequestException as e:\n",
    "                        print(e)\n"
   ]
  },
  {
   "cell_type": "code",
   "execution_count": null,
   "metadata": {},
   "outputs": [],
   "source": [
    "other_urls = [\n",
    "    'https://jeodpp.jrc.ec.europa.eu/ftp/jrc-opendata/GHSL//GHS_DUC_GLOBE_R2023A/V1-0/GHS_DUC_MT_GLOBE_R2023A_V1_0.zip',\n",
    "    'https://geodata.ucdavis.edu/gadm/gadm4.1/gadm_410-gpkg.zip',\n",
    "    'https://jeodpp.jrc.ec.europa.eu/ftp/jrc-opendata/GHSL/GHS_SDATA_GLOBE_R2023A/GHS_SDATA_WUP2018_BOUNDARIES_MT_GLOBE_R2023A/V1-0/GHS_SDATA_WUP2018_BOUNDARIES_MT_GLOBE_R2023A_V1_0.zip',\n",
    "    'https://ghsl.jrc.ec.europa.eu/download/GHSL_data_54009_shapefile.zip',\n",
    "]\n",
    "\n"
   ]
  },
  {
   "cell_type": "code",
   "execution_count": null,
   "metadata": {},
   "outputs": [],
   "source": []
  }
 ],
 "metadata": {
  "kernelspec": {
   "display_name": "cdse",
   "language": "python",
   "name": "cdse"
  },
  "language_info": {
   "codemirror_mode": {
    "name": "ipython",
    "version": 3
   },
   "file_extension": ".py",
   "mimetype": "text/x-python",
   "name": "python",
   "nbconvert_exporter": "python",
   "pygments_lexer": "ipython3",
   "version": "3.12.3"
  }
 },
 "nbformat": 4,
 "nbformat_minor": 2
}
