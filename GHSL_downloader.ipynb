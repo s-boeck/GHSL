{
 "cells": [
  {
   "cell_type": "code",
   "execution_count": 1,
   "metadata": {},
   "outputs": [],
   "source": [
    "import os\n",
    "import requests"
   ]
  },
  {
   "cell_type": "code",
   "execution_count": 2,
   "metadata": {},
   "outputs": [],
   "source": [
    "def generate_years_sequence(start_year: int, end_year: int, interval: int = 5) -> str:\n",
    "    year = start_year\n",
    "    years = []\n",
    "    while year <= end_year:\n",
    "        years.append(str(year))\n",
    "        year += interval\n",
    "    \n",
    "    return years"
   ]
  },
  {
   "cell_type": "code",
   "execution_count": null,
   "metadata": {},
   "outputs": [],
   "source": [
    "https://jeodpp.jrc.ec.europa.eu/ftp/jrc-opendata/GHSL/GHS_POP_GLOBE_R2023A/GHS_POP_E2030_GLOBE_R2023A_54009_100/V1-0/tiles/GHS_POP_E2030_GLOBE_R2023A_54009_100_V1_0_R3_C18.zip\n",
    "https://jeodpp.jrc.ec.europa.eu/ftp/jrc-opendata/GHSL/GHS_BUILT_C_GLOBE_R2023A/GHS_BUILT_C_FUN_E2018_GLOBE_R2023A_54009_10/V1-0/tiles/GHS_BUILT_C_FUN_E2018_GLOBE_R2023A_54009_10_V1_0_R3_C20.zip\n",
    "https://jeodpp.jrc.ec.europa.eu/ftp/jrc-opendata/GHSL/GHS_BUILT_C_GLOBE_R2023A/GHS_BUILT_C_MSZ_E2018_GLOBE_R2023A_54009_10/V1-0/tiles/GHS_BUILT_C_MSZ_E2018_GLOBE_R2023A_54009_10_V1_0_R3_C20.zip\n",
    "https://jeodpp.jrc.ec.europa.eu/ftp/jrc-opendata/GHSL/GHS_SMOD_GLOBE_R2023A/GHS_SMOD_E2030_GLOBE_R2023A_54009_1000/V1-0/tiles/GHS_SMOD_E2030_GLOBE_R2023A_54009_1000_V1_0_R3_C19.zip\n",
    "https://jeodpp.jrc.ec.europa.eu/ftp/jrc-opendata/GHSL/GHS_SDATA_GLOBE_R2023A/GHS_SDATA_LDS_QUANT_MT_GLOBE_R2023A_54009_100/V1-0/tiles/GHS_SDATA_LDS_QUANT_MT_GLOBE_R2023A_54009_100_R4_C19.zip"
   ]
  },
  {
   "cell_type": "code",
   "execution_count": 12,
   "metadata": {},
   "outputs": [],
   "source": [
    "dst = 'data'\n",
    "\n",
    "\n",
    "years = generate_years_sequence(1975, 2030, 5)\n",
    "\n",
    "year = \"\"\n",
    "\n",
    "row = 1\n",
    "col = 15\n",
    "\n",
    "root = 'https://jeodpp.jrc.ec.europa.eu/ftp/jrc-opendata/GHSL'\n",
    "\n",
    "products = {\n",
    "    'GHS_BUILT_S_GLOBE_R2023A': [f'GHS_BUILT_S_E{year}_GLOBE_R2023A_54009_100' for year in years],\n",
    "    'GHS_BUILT_V_GLOBE_R2023A': [f'GHS_BUILT_V_E{year}_GLOBE_R2023A_54009_100' for year in years],\n",
    "    'GHS_POP_GLOBE_R2023': [f'GHS_POP_E{year}_GLOBE_R2023A_54009_100' for year in years],\n",
    "    'GHS_SMOD_GLOBE_R2023A': [f'GHS_SMOD_E{year}_GLOBE_R2023A_54009_1000' for year in years],\n",
    "    'GHS_BUILT_H_GLOBE_R2023A': ('GHS_BUILT_H_FUN_E2018_GLOBE_R2023A_54009_10', 'GHS_BUILT_H_MSZ_E2018_GLOBE_R2023A_54009_10', ),\n",
    "    'GHS_BUILT_C_GLOBE_R2023A': ('GHS_BUILT_C_FUN_E2018_GLOBE_R2023A_54009_10', 'GHS_BUILT_C_MSZ_E2018_GLOBE_R2023A_54009_10', ),\n",
    "    'GHS_SDATA_GLOBE_R2023A': ('GHS_SDATA_LDS_QUANT_MT_GLOBE_R2023A_54009_100', )\n",
    "}\n",
    "\n",
    "\n",
    "\n",
    "other_urls = ['https://jeodpp.jrc.ec.europa.eu/ftp/jrc-opendata/GHSL//GHS_DUC_GLOBE_R2023A/V1-0/GHS_DUC_MT_GLOBE_R2023A_V1_0.zip',\n",
    "              'https://geodata.ucdavis.edu/gadm/gadm4.1/gadm_410-gpkg.zip',\n",
    "              'https://jeodpp.jrc.ec.europa.eu/ftp/jrc-opendata/GHSL/GHS_SDATA_GLOBE_R2023A/GHS_SDATA_WUP2018_BOUNDARIES_MT_GLOBE_R2023A/V1-0/GHS_SDATA_WUP2018_BOUNDARIES_MT_GLOBE_R2023A_V1_0.zip',\n",
    "              'https://ghsl.jrc.ec.europa.eu/download/GHSL_data_54009_shapefile.zip']\n",
    "\n",
    "\n",
    "product = 'GHS_BUILT_S_GLOBE_R2023A'\n",
    "dataset = f'GHS_BUILT_S_E{year}_GLOBE_R2023A_54009_100'\n",
    "item = f'{dataset}_V1_0_R{row}_C{col}.zip'\n",
    "\n",
    "url = f'{root}/{product}/{dataset}/V1-0/tiles/{item}'\n",
    "\n",
    "\n",
    "target = os.path.join(dst, product, dataset, item)"
   ]
  },
  {
   "cell_type": "code",
   "execution_count": 4,
   "metadata": {},
   "outputs": [
    {
     "name": "stdout",
     "output_type": "stream",
     "text": [
      "GHS_BUILT_S_E1975_GLOBE_R2023A_54009_100_V1_0_R1_C15.zip\n"
     ]
    },
    {
     "data": {
      "text/plain": [
       "'https://jeodpp.jrc.ec.europa.eu/ftp/jrc-opendata/GHSL/GHS_BUILT_S_GLOBE_R2023A/GHS_BUILT_S_E1975_GLOBE_R2023A_54009_100/V1-0/tiles/GHS_BUILT_S_E1975_GLOBE_R2023A_54009_100_V1_0_R1_C15.zip'"
      ]
     },
     "execution_count": 4,
     "metadata": {},
     "output_type": "execute_result"
    }
   ],
   "source": [
    "print(os.path.basename(url))\n",
    "url\n"
   ]
  },
  {
   "cell_type": "code",
   "execution_count": 5,
   "metadata": {},
   "outputs": [],
   "source": [
    "os.makedirs(os.path.dirname(target), exist_ok=True)"
   ]
  },
  {
   "cell_type": "code",
   "execution_count": 6,
   "metadata": {},
   "outputs": [],
   "source": [
    "try:\n",
    "    r = requests.get(url)\n",
    "    with open(target, 'wb') as f:\n",
    "        f.write(r.content)\n",
    "except requests.exceptions.RequestException as e:\n",
    "    print(e)"
   ]
  },
  {
   "cell_type": "code",
   "execution_count": 23,
   "metadata": {},
   "outputs": [],
   "source": [
    "import zipfile\n",
    "with zipfile.ZipFile(target, 'r') as zip_f:\n",
    "    zip_f.extractall(target.removesuffix('.zip'))\n",
    "    "
   ]
  },
  {
   "cell_type": "code",
   "execution_count": 14,
   "metadata": {},
   "outputs": [
    {
     "name": "stdout",
     "output_type": "stream",
     "text": [
      "['GHS_BUILT_S_E1975_GLOBE_R2023A_54009_100', 'GHS_BUILT_S_E1980_GLOBE_R2023A_54009_100', 'GHS_BUILT_S_E1985_GLOBE_R2023A_54009_100', 'GHS_BUILT_S_E1990_GLOBE_R2023A_54009_100', 'GHS_BUILT_S_E1995_GLOBE_R2023A_54009_100', 'GHS_BUILT_S_E2000_GLOBE_R2023A_54009_100', 'GHS_BUILT_S_E2005_GLOBE_R2023A_54009_100', 'GHS_BUILT_S_E2010_GLOBE_R2023A_54009_100', 'GHS_BUILT_S_E2015_GLOBE_R2023A_54009_100', 'GHS_BUILT_S_E2020_GLOBE_R2023A_54009_100', 'GHS_BUILT_S_E2025_GLOBE_R2023A_54009_100', 'GHS_BUILT_S_E2030_GLOBE_R2023A_54009_100']\n",
      "['GHS_BUILT_V_E1975_GLOBE_R2023A_54009_100', 'GHS_BUILT_V_E1980_GLOBE_R2023A_54009_100', 'GHS_BUILT_V_E1985_GLOBE_R2023A_54009_100', 'GHS_BUILT_V_E1990_GLOBE_R2023A_54009_100', 'GHS_BUILT_V_E1995_GLOBE_R2023A_54009_100', 'GHS_BUILT_V_E2000_GLOBE_R2023A_54009_100', 'GHS_BUILT_V_E2005_GLOBE_R2023A_54009_100', 'GHS_BUILT_V_E2010_GLOBE_R2023A_54009_100', 'GHS_BUILT_V_E2015_GLOBE_R2023A_54009_100', 'GHS_BUILT_V_E2020_GLOBE_R2023A_54009_100', 'GHS_BUILT_V_E2025_GLOBE_R2023A_54009_100', 'GHS_BUILT_V_E2030_GLOBE_R2023A_54009_100']\n",
      "['GHS_POP_E1975_GLOBE_R2023A_54009_100', 'GHS_POP_E1980_GLOBE_R2023A_54009_100', 'GHS_POP_E1985_GLOBE_R2023A_54009_100', 'GHS_POP_E1990_GLOBE_R2023A_54009_100', 'GHS_POP_E1995_GLOBE_R2023A_54009_100', 'GHS_POP_E2000_GLOBE_R2023A_54009_100', 'GHS_POP_E2005_GLOBE_R2023A_54009_100', 'GHS_POP_E2010_GLOBE_R2023A_54009_100', 'GHS_POP_E2015_GLOBE_R2023A_54009_100', 'GHS_POP_E2020_GLOBE_R2023A_54009_100', 'GHS_POP_E2025_GLOBE_R2023A_54009_100', 'GHS_POP_E2030_GLOBE_R2023A_54009_100']\n",
      "['GHS_SMOD_E1975_GLOBE_R2023A_54009_1000', 'GHS_SMOD_E1980_GLOBE_R2023A_54009_1000', 'GHS_SMOD_E1985_GLOBE_R2023A_54009_1000', 'GHS_SMOD_E1990_GLOBE_R2023A_54009_1000', 'GHS_SMOD_E1995_GLOBE_R2023A_54009_1000', 'GHS_SMOD_E2000_GLOBE_R2023A_54009_1000', 'GHS_SMOD_E2005_GLOBE_R2023A_54009_1000', 'GHS_SMOD_E2010_GLOBE_R2023A_54009_1000', 'GHS_SMOD_E2015_GLOBE_R2023A_54009_1000', 'GHS_SMOD_E2020_GLOBE_R2023A_54009_1000', 'GHS_SMOD_E2025_GLOBE_R2023A_54009_1000', 'GHS_SMOD_E2030_GLOBE_R2023A_54009_1000']\n",
      "('GHS_BUILT_H_FUN_E2018_GLOBE_R2023A_54009_10', 'GHS_BUILT_H_MSZ_E2018_GLOBE_R2023A_54009_10')\n",
      "('GHS_BUILT_C_FUN_E2018_GLOBE_R2023A_54009_10', 'GHS_BUILT_C_MSZ_E2018_GLOBE_R2023A_54009_10')\n",
      "('GHS_SDATA_LDS_QUANT_MT_GLOBE_R2023A_54009_100',)\n"
     ]
    }
   ],
   "source": [
    "for product in products:\n",
    "    datasets = products.get(product)\n",
    "    for dataset in datasets:\n",
    "        "
   ]
  },
  {
   "cell_type": "code",
   "execution_count": null,
   "metadata": {},
   "outputs": [],
   "source": []
  }
 ],
 "metadata": {
  "kernelspec": {
   "display_name": "cdse",
   "language": "python",
   "name": "cdse"
  },
  "language_info": {
   "codemirror_mode": {
    "name": "ipython",
    "version": 3
   },
   "file_extension": ".py",
   "mimetype": "text/x-python",
   "name": "python",
   "nbconvert_exporter": "python",
   "pygments_lexer": "ipython3",
   "version": "3.12.3"
  }
 },
 "nbformat": 4,
 "nbformat_minor": 2
}
