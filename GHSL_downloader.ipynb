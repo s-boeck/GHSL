{
 "cells": [
  {
   "cell_type": "code",
   "execution_count": 2,
   "metadata": {},
   "outputs": [],
   "source": [
    "import os\n",
    "import requests"
   ]
  },
  {
   "cell_type": "code",
   "execution_count": null,
   "metadata": {},
   "outputs": [],
   "source": [
    "def generate_years_sequence(start_year: int, end_year: int, interval: int = 5) -> str:\n",
    "    year = start_year\n",
    "    years = []\n",
    "    while year <= end_year:\n",
    "        years.append(str(year))\n",
    "        year += interval\n",
    "    \n",
    "    return years"
   ]
  },
  {
   "cell_type": "code",
   "execution_count": 15,
   "metadata": {},
   "outputs": [],
   "source": [
    "dst = 'data'\n",
    "\n",
    "\n",
    "years = generate_years_sequence(1975, 2030, 5)\n",
    "years += ['2018']\n",
    "\n",
    "year = years[0]\n",
    "\n",
    "row = 1\n",
    "col = 15\n",
    "\n",
    "root = 'https://jeodpp.jrc.ec.europa.eu/ftp/jrc-opendata/GHSL'\n",
    "\n",
    "products_5y = {\n",
    "    'GHS_BUILT_S_GLOBE_R2023A': f'GHS_BUILT_S_E{year}_GLOBE_R2023A_54009_100',\n",
    "    'GHS_BUILT_V_GLOBE_R2023A': f'GHS_BUILT_V_E{year}_GLOBE_R2023A_54009_100',\n",
    "    'GHS_BUILT_C_GLOBE_R2023A': f'',\n",
    "}\n",
    "\n",
    "products_single = {\n",
    "    'GHS_BUILT_H_GLOBE_R2023A': f'GHS_BUILT_H_ANBH_E2018_GLOBE_R2023A_54009_100',\n",
    "}\n",
    "\n",
    "\n",
    "product = 'GHS_BUILT_S_GLOBE_R2023A'\n",
    "dataset = f'GHS_BUILT_S_E{year}_GLOBE_R2023A_54009_100'\n",
    "item = f'GHS_BUILT_S_E{year}_GLOBE_R2023A_54009_100_V1_0_R{row}_C{col}.zip'\n",
    "\n",
    "url = f'{root}/{product}/{dataset}/V1-0/tiles/{item}'\n",
    "\n",
    "\n",
    "target = os.path.join(dst, product, dataset, item)"
   ]
  },
  {
   "cell_type": "code",
   "execution_count": 13,
   "metadata": {},
   "outputs": [
    {
     "name": "stdout",
     "output_type": "stream",
     "text": [
      "GHS_BUILT_S_E1975_GLOBE_R2023A_54009_100_V1_0_R1_C15.zip\n"
     ]
    },
    {
     "data": {
      "text/plain": [
       "'https://jeodpp.jrc.ec.europa.eu/ftp/jrc-opendata/GHSL/GHS_BUILT_S_GLOBE_R2023A/GHS_BUILT_S_E1975_GLOBE_R2023A_54009_100/V1-0/tiles/GHS_BUILT_S_E1975_GLOBE_R2023A_54009_100_V1_0_R1_C15.zip'"
      ]
     },
     "execution_count": 13,
     "metadata": {},
     "output_type": "execute_result"
    }
   ],
   "source": [
    "print(os.path.basename(url))\n",
    "url\n"
   ]
  },
  {
   "cell_type": "code",
   "execution_count": 17,
   "metadata": {},
   "outputs": [],
   "source": [
    "os.makedirs(os.path.dirname(target), exist_ok=True)"
   ]
  },
  {
   "cell_type": "code",
   "execution_count": 18,
   "metadata": {},
   "outputs": [],
   "source": [
    "r = requests.get(url)"
   ]
  },
  {
   "cell_type": "code",
   "execution_count": 20,
   "metadata": {},
   "outputs": [],
   "source": [
    "with open(target, 'wb') as f:\n",
    "    f.write(r.content)\n",
    "\n"
   ]
  },
  {
   "cell_type": "code",
   "execution_count": 21,
   "metadata": {},
   "outputs": [],
   "source": [
    "import zipfile"
   ]
  },
  {
   "cell_type": "code",
   "execution_count": 23,
   "metadata": {},
   "outputs": [],
   "source": [
    "with zipfile.ZipFile(target, 'r') as zip_f:\n",
    "    zip_f.extractall(target.removesuffix('.zip'))\n",
    "    "
   ]
  }
 ],
 "metadata": {
  "kernelspec": {
   "display_name": "cdse",
   "language": "python",
   "name": "cdse"
  },
  "language_info": {
   "codemirror_mode": {
    "name": "ipython",
    "version": 3
   },
   "file_extension": ".py",
   "mimetype": "text/x-python",
   "name": "python",
   "nbconvert_exporter": "python",
   "pygments_lexer": "ipython3",
   "version": "3.12.3"
  }
 },
 "nbformat": 4,
 "nbformat_minor": 2
}
